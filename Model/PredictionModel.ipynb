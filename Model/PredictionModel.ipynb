{
 "cells": [
  {
   "cell_type": "markdown",
   "id": "d104e23e-320f-4d8b-a277-c277d3895925",
   "metadata": {},
   "source": [
    "# NETWORK FAILURE  PREDICTION MODEL"
   ]
  },
  {
   "cell_type": "markdown",
   "id": "d4c74711-58d7-4fb3-912a-6456078807bc",
   "metadata": {},
   "source": [
    "Steps to Follow When Perfoming Time series Analysis \n",
    "\n",
    "1.Data Collection\n",
    "2.Data Exploration and Assesement\n",
    "3.Data Preprocessing and Cleaning\n",
    "4.Stationarity\n",
    "5.Choosing Model\n",
    "6.Model Fitting\n",
    "7.Forecasting\n",
    "8.Model Evaluation\n"
   ]
  },
  {
   "cell_type": "code",
   "execution_count": 1,
   "id": "f6add730-3bc1-4852-b4d5-99c3ab4f269b",
   "metadata": {},
   "outputs": [],
   "source": [
    "# ----------------------------------------------Importing modules that are neccessary for the Prediction--------------------\n",
    "import pandas as pd\n",
    "import numpy as np\n",
    "import matplotlib.pyplot as plt\n",
    "import statsmodels.api as sm\n",
    "from pandas import Series"
   ]
  },
  {
   "cell_type": "code",
   "execution_count": 2,
   "id": "4d1654ae",
   "metadata": {},
   "outputs": [
    {
     "data": {
      "text/plain": [
       "(1048575, 87)"
      ]
     },
     "execution_count": 2,
     "metadata": {},
     "output_type": "execute_result"
    }
   ],
   "source": [
    "#----------------------------------------------STEP 1 DATA COLLECTION-----------------------------------------------------------\n",
    "df = pd.read_csv('Data_set/Dataset-Unicauca-Version2-87Atts.csv')\n",
    "df.shape"
   ]
  },
  {
   "cell_type": "code",
   "execution_count": 17,
   "id": "cff2cf6d",
   "metadata": {},
   "outputs": [
    {
     "name": "stdout",
     "output_type": "stream",
     "text": [
      "Head of the Data Set                                      Flow.ID       Source.IP  Source.Port  \\\n",
      "0    172.19.1.46-192.168.245.10-52422-3128-6     172.19.1.46        52422   \n",
      "1    172.19.1.46-192.168.245.10-52422-3128-6  192.168.245.10         3128   \n",
      "2       10.200.7.217-50.31.185.39-38848-80-6    50.31.185.39           80   \n",
      "3       10.200.7.217-50.31.185.39-38848-80-6    50.31.185.39           80   \n",
      "4  192.168.72.43-192.168.245.10-55961-3128-6   192.168.72.43        55961   \n",
      "\n",
      "   Destination.IP  Destination.Port  Protocol           Timestamp  \\\n",
      "0  192.168.245.10              3128         6  26/04/201711:11:17   \n",
      "1     172.19.1.46             52422         6  26/04/201711:11:17   \n",
      "2    10.200.7.217             38848         6  26/04/201711:11:17   \n",
      "3    10.200.7.217             38848         6  26/04/201711:11:17   \n",
      "4  192.168.245.10              3128         6  26/04/201711:11:17   \n",
      "\n",
      "   Flow.Duration  Total.Fwd.Packets  Total.Backward.Packets  ...  Active.Std  \\\n",
      "0          45523                 22                      55  ...         0.0   \n",
      "1              1                  2                       0  ...         0.0   \n",
      "2              1                  3                       0  ...         0.0   \n",
      "3            217                  1                       3  ...         0.0   \n",
      "4          78068                  5                       0  ...         0.0   \n",
      "\n",
      "   Active.Max  Active.Min  Idle.Mean  Idle.Std  Idle.Max  Idle.Min   Label  \\\n",
      "0           0         0.0        0.0       0.0       0.0       0.0  BENIGN   \n",
      "1           0         0.0        0.0       0.0       0.0       0.0  BENIGN   \n",
      "2           0         0.0        0.0       0.0       0.0       0.0  BENIGN   \n",
      "3           0         0.0        0.0       0.0       0.0       0.0  BENIGN   \n",
      "4           0         0.0        0.0       0.0       0.0       0.0  BENIGN   \n",
      "\n",
      "   L7Protocol  ProtocolName  \n",
      "0         131    HTTP_PROXY  \n",
      "1         131    HTTP_PROXY  \n",
      "2           7          HTTP  \n",
      "3           7          HTTP  \n",
      "4         131    HTTP_PROXY  \n",
      "\n",
      "[5 rows x 87 columns]\n",
      "Tail of the Data Set                                         Flow.ID   Source.IP  Source.Port  \\\n",
      "1048570  192.168.90.114-10.200.7.5-59240-3128-6  10.200.7.5         3128   \n",
      "1048571   192.168.42.57-10.200.7.5-62632-3128-6  10.200.7.5         3128   \n",
      "1048572   192.168.90.70-10.200.7.5-52166-3128-6  10.200.7.5         3128   \n",
      "1048573  192.168.180.14-10.200.7.5-34478-3128-6  10.200.7.5         3128   \n",
      "1048574  192.168.180.14-10.200.7.5-50033-3128-6  10.200.7.5         3128   \n",
      "\n",
      "         Destination.IP  Destination.Port  Protocol           Timestamp  \\\n",
      "1048570  192.168.90.114             59240         6  27/04/201711:34:51   \n",
      "1048571   192.168.42.57             62632         6  27/04/201711:33:43   \n",
      "1048572   192.168.90.70             52166         6  27/04/201711:32:47   \n",
      "1048573  192.168.180.14             34478         6  27/04/201711:35:00   \n",
      "1048574  192.168.180.14             50033         6  27/04/201711:35:03   \n",
      "\n",
      "         Flow.Duration  Total.Fwd.Packets  Total.Backward.Packets  ...  \\\n",
      "1048570              1                  2                       0  ...   \n",
      "1048571       74700026                 12                       1  ...   \n",
      "1048572       76789744                 19                       2  ...   \n",
      "1048573         535002                  2                       0  ...   \n",
      "1048574         511035                  2                       0  ...   \n",
      "\n",
      "         Active.Std  Active.Max  Active.Min   Idle.Mean  Idle.Std    Idle.Max  \\\n",
      "1048570         0.0           0         0.0         0.0       0.0         0.0   \n",
      "1048571         0.0         138       138.0  45000538.0       0.0  45000538.0   \n",
      "1048572         0.0        9299      9299.0  76770550.0       0.0  76770550.0   \n",
      "1048573         0.0           0         0.0         0.0       0.0         0.0   \n",
      "1048574         0.0           0         0.0         0.0       0.0         0.0   \n",
      "\n",
      "           Idle.Min   Label  L7Protocol  ProtocolName  \n",
      "1048570         0.0  BENIGN           7          HTTP  \n",
      "1048571  45000538.0  BENIGN           7          HTTP  \n",
      "1048572  76770550.0  BENIGN         131    HTTP_PROXY  \n",
      "1048573         0.0  BENIGN           7          HTTP  \n",
      "1048574         0.0  BENIGN           7          HTTP  \n",
      "\n",
      "[5 rows x 87 columns]\n"
     ]
    }
   ],
   "source": [
    "#---------------------------------------------DATA EXPLORATION AND ASSESEMENT(DATA ANALAYSIS)-------------------------------------\n",
    "print('Head of the Data Set',df.head(n=5))\n",
    "print('Tail of the Data Set',df.tail(n=5))\n"
   ]
  },
  {
   "cell_type": "code",
   "execution_count": 6,
   "id": "9c7293f2",
   "metadata": {},
   "outputs": [
    {
     "data": {
      "text/html": [
       "<div>\n",
       "<style scoped>\n",
       "    .dataframe tbody tr th:only-of-type {\n",
       "        vertical-align: middle;\n",
       "    }\n",
       "\n",
       "    .dataframe tbody tr th {\n",
       "        vertical-align: top;\n",
       "    }\n",
       "\n",
       "    .dataframe thead th {\n",
       "        text-align: right;\n",
       "    }\n",
       "</style>\n",
       "<table border=\"1\" class=\"dataframe\">\n",
       "  <thead>\n",
       "    <tr style=\"text-align: right;\">\n",
       "      <th></th>\n",
       "      <th>Source.Port</th>\n",
       "      <th>Destination.Port</th>\n",
       "      <th>Protocol</th>\n",
       "      <th>Flow.Duration</th>\n",
       "      <th>Total.Fwd.Packets</th>\n",
       "      <th>Total.Backward.Packets</th>\n",
       "      <th>Total.Length.of.Fwd.Packets</th>\n",
       "      <th>Total.Length.of.Bwd.Packets</th>\n",
       "      <th>Fwd.Packet.Length.Max</th>\n",
       "      <th>Fwd.Packet.Length.Min</th>\n",
       "      <th>...</th>\n",
       "      <th>min_seg_size_forward</th>\n",
       "      <th>Active.Mean</th>\n",
       "      <th>Active.Std</th>\n",
       "      <th>Active.Max</th>\n",
       "      <th>Active.Min</th>\n",
       "      <th>Idle.Mean</th>\n",
       "      <th>Idle.Std</th>\n",
       "      <th>Idle.Max</th>\n",
       "      <th>Idle.Min</th>\n",
       "      <th>L7Protocol</th>\n",
       "    </tr>\n",
       "  </thead>\n",
       "  <tbody>\n",
       "    <tr>\n",
       "      <th>count</th>\n",
       "      <td>1.048575e+06</td>\n",
       "      <td>1.048575e+06</td>\n",
       "      <td>1.048575e+06</td>\n",
       "      <td>1.048575e+06</td>\n",
       "      <td>1.048575e+06</td>\n",
       "      <td>1.048575e+06</td>\n",
       "      <td>1.048575e+06</td>\n",
       "      <td>1.048575e+06</td>\n",
       "      <td>1.048575e+06</td>\n",
       "      <td>1.048575e+06</td>\n",
       "      <td>...</td>\n",
       "      <td>1.048575e+06</td>\n",
       "      <td>1.048575e+06</td>\n",
       "      <td>1.048575e+06</td>\n",
       "      <td>1.048575e+06</td>\n",
       "      <td>1.048575e+06</td>\n",
       "      <td>1.048575e+06</td>\n",
       "      <td>1.048575e+06</td>\n",
       "      <td>1.048575e+06</td>\n",
       "      <td>1.048575e+06</td>\n",
       "      <td>1.048575e+06</td>\n",
       "    </tr>\n",
       "    <tr>\n",
       "      <th>mean</th>\n",
       "      <td>3.569082e+04</td>\n",
       "      <td>1.291848e+04</td>\n",
       "      <td>6.005119e+00</td>\n",
       "      <td>2.112849e+07</td>\n",
       "      <td>5.465246e+01</td>\n",
       "      <td>6.140241e+01</td>\n",
       "      <td>3.470609e+04</td>\n",
       "      <td>9.915793e+04</td>\n",
       "      <td>4.943220e+02</td>\n",
       "      <td>7.226746e+00</td>\n",
       "      <td>...</td>\n",
       "      <td>2.590404e+01</td>\n",
       "      <td>2.470705e+05</td>\n",
       "      <td>1.443851e+05</td>\n",
       "      <td>4.252302e+05</td>\n",
       "      <td>1.441728e+05</td>\n",
       "      <td>7.093360e+06</td>\n",
       "      <td>1.115743e+06</td>\n",
       "      <td>8.076663e+06</td>\n",
       "      <td>6.058889e+06</td>\n",
       "      <td>9.611647e+01</td>\n",
       "    </tr>\n",
       "    <tr>\n",
       "      <th>std</th>\n",
       "      <td>2.267147e+04</td>\n",
       "      <td>2.116656e+04</td>\n",
       "      <td>3.248193e-01</td>\n",
       "      <td>3.711712e+07</td>\n",
       "      <td>9.892436e+02</td>\n",
       "      <td>1.294176e+03</td>\n",
       "      <td>1.575671e+06</td>\n",
       "      <td>3.023639e+06</td>\n",
       "      <td>1.011026e+03</td>\n",
       "      <td>8.181314e+01</td>\n",
       "      <td>...</td>\n",
       "      <td>6.029654e+00</td>\n",
       "      <td>2.018038e+06</td>\n",
       "      <td>1.048899e+06</td>\n",
       "      <td>2.744389e+06</td>\n",
       "      <td>1.809586e+06</td>\n",
       "      <td>1.598250e+07</td>\n",
       "      <td>4.398582e+06</td>\n",
       "      <td>1.764365e+07</td>\n",
       "      <td>1.497405e+07</td>\n",
       "      <td>5.484653e+01</td>\n",
       "    </tr>\n",
       "    <tr>\n",
       "      <th>min</th>\n",
       "      <td>0.000000e+00</td>\n",
       "      <td>0.000000e+00</td>\n",
       "      <td>0.000000e+00</td>\n",
       "      <td>1.000000e+00</td>\n",
       "      <td>1.000000e+00</td>\n",
       "      <td>0.000000e+00</td>\n",
       "      <td>0.000000e+00</td>\n",
       "      <td>0.000000e+00</td>\n",
       "      <td>0.000000e+00</td>\n",
       "      <td>0.000000e+00</td>\n",
       "      <td>...</td>\n",
       "      <td>-1.000000e+00</td>\n",
       "      <td>0.000000e+00</td>\n",
       "      <td>0.000000e+00</td>\n",
       "      <td>0.000000e+00</td>\n",
       "      <td>0.000000e+00</td>\n",
       "      <td>0.000000e+00</td>\n",
       "      <td>0.000000e+00</td>\n",
       "      <td>0.000000e+00</td>\n",
       "      <td>0.000000e+00</td>\n",
       "      <td>5.000000e+00</td>\n",
       "    </tr>\n",
       "    <tr>\n",
       "      <th>25%</th>\n",
       "      <td>3.128000e+03</td>\n",
       "      <td>4.430000e+02</td>\n",
       "      <td>6.000000e+00</td>\n",
       "      <td>5.640000e+02</td>\n",
       "      <td>2.000000e+00</td>\n",
       "      <td>1.000000e+00</td>\n",
       "      <td>6.000000e+00</td>\n",
       "      <td>0.000000e+00</td>\n",
       "      <td>6.000000e+00</td>\n",
       "      <td>0.000000e+00</td>\n",
       "      <td>...</td>\n",
       "      <td>2.000000e+01</td>\n",
       "      <td>0.000000e+00</td>\n",
       "      <td>0.000000e+00</td>\n",
       "      <td>0.000000e+00</td>\n",
       "      <td>0.000000e+00</td>\n",
       "      <td>0.000000e+00</td>\n",
       "      <td>0.000000e+00</td>\n",
       "      <td>0.000000e+00</td>\n",
       "      <td>0.000000e+00</td>\n",
       "      <td>7.000000e+01</td>\n",
       "    </tr>\n",
       "    <tr>\n",
       "      <th>50%</th>\n",
       "      <td>4.698400e+04</td>\n",
       "      <td>3.128000e+03</td>\n",
       "      <td>6.000000e+00</td>\n",
       "      <td>3.133100e+05</td>\n",
       "      <td>5.000000e+00</td>\n",
       "      <td>4.000000e+00</td>\n",
       "      <td>3.140000e+02</td>\n",
       "      <td>6.900000e+01</td>\n",
       "      <td>1.660000e+02</td>\n",
       "      <td>0.000000e+00</td>\n",
       "      <td>...</td>\n",
       "      <td>2.000000e+01</td>\n",
       "      <td>0.000000e+00</td>\n",
       "      <td>0.000000e+00</td>\n",
       "      <td>0.000000e+00</td>\n",
       "      <td>0.000000e+00</td>\n",
       "      <td>0.000000e+00</td>\n",
       "      <td>0.000000e+00</td>\n",
       "      <td>0.000000e+00</td>\n",
       "      <td>0.000000e+00</td>\n",
       "      <td>1.260000e+02</td>\n",
       "    </tr>\n",
       "    <tr>\n",
       "      <th>75%</th>\n",
       "      <td>5.306000e+04</td>\n",
       "      <td>3.128000e+03</td>\n",
       "      <td>6.000000e+00</td>\n",
       "      <td>1.992396e+07</td>\n",
       "      <td>1.500000e+01</td>\n",
       "      <td>1.500000e+01</td>\n",
       "      <td>1.702000e+03</td>\n",
       "      <td>3.876000e+03</td>\n",
       "      <td>5.970000e+02</td>\n",
       "      <td>6.000000e+00</td>\n",
       "      <td>...</td>\n",
       "      <td>3.200000e+01</td>\n",
       "      <td>0.000000e+00</td>\n",
       "      <td>0.000000e+00</td>\n",
       "      <td>0.000000e+00</td>\n",
       "      <td>0.000000e+00</td>\n",
       "      <td>0.000000e+00</td>\n",
       "      <td>0.000000e+00</td>\n",
       "      <td>0.000000e+00</td>\n",
       "      <td>0.000000e+00</td>\n",
       "      <td>1.300000e+02</td>\n",
       "    </tr>\n",
       "    <tr>\n",
       "      <th>max</th>\n",
       "      <td>6.553400e+04</td>\n",
       "      <td>6.553400e+04</td>\n",
       "      <td>1.700000e+01</td>\n",
       "      <td>1.200000e+08</td>\n",
       "      <td>3.286950e+05</td>\n",
       "      <td>5.421960e+05</td>\n",
       "      <td>6.780236e+08</td>\n",
       "      <td>1.345796e+09</td>\n",
       "      <td>2.982000e+04</td>\n",
       "      <td>1.606000e+04</td>\n",
       "      <td>...</td>\n",
       "      <td>4.800000e+01</td>\n",
       "      <td>1.138933e+08</td>\n",
       "      <td>7.225154e+07</td>\n",
       "      <td>1.138933e+08</td>\n",
       "      <td>1.138933e+08</td>\n",
       "      <td>1.200000e+08</td>\n",
       "      <td>7.516046e+07</td>\n",
       "      <td>1.200000e+08</td>\n",
       "      <td>1.200000e+08</td>\n",
       "      <td>2.220000e+02</td>\n",
       "    </tr>\n",
       "  </tbody>\n",
       "</table>\n",
       "<p>8 rows × 81 columns</p>\n",
       "</div>"
      ],
      "text/plain": [
       "        Source.Port  Destination.Port      Protocol  Flow.Duration  \\\n",
       "count  1.048575e+06      1.048575e+06  1.048575e+06   1.048575e+06   \n",
       "mean   3.569082e+04      1.291848e+04  6.005119e+00   2.112849e+07   \n",
       "std    2.267147e+04      2.116656e+04  3.248193e-01   3.711712e+07   \n",
       "min    0.000000e+00      0.000000e+00  0.000000e+00   1.000000e+00   \n",
       "25%    3.128000e+03      4.430000e+02  6.000000e+00   5.640000e+02   \n",
       "50%    4.698400e+04      3.128000e+03  6.000000e+00   3.133100e+05   \n",
       "75%    5.306000e+04      3.128000e+03  6.000000e+00   1.992396e+07   \n",
       "max    6.553400e+04      6.553400e+04  1.700000e+01   1.200000e+08   \n",
       "\n",
       "       Total.Fwd.Packets  Total.Backward.Packets  Total.Length.of.Fwd.Packets  \\\n",
       "count       1.048575e+06            1.048575e+06                 1.048575e+06   \n",
       "mean        5.465246e+01            6.140241e+01                 3.470609e+04   \n",
       "std         9.892436e+02            1.294176e+03                 1.575671e+06   \n",
       "min         1.000000e+00            0.000000e+00                 0.000000e+00   \n",
       "25%         2.000000e+00            1.000000e+00                 6.000000e+00   \n",
       "50%         5.000000e+00            4.000000e+00                 3.140000e+02   \n",
       "75%         1.500000e+01            1.500000e+01                 1.702000e+03   \n",
       "max         3.286950e+05            5.421960e+05                 6.780236e+08   \n",
       "\n",
       "       Total.Length.of.Bwd.Packets  Fwd.Packet.Length.Max  \\\n",
       "count                 1.048575e+06           1.048575e+06   \n",
       "mean                  9.915793e+04           4.943220e+02   \n",
       "std                   3.023639e+06           1.011026e+03   \n",
       "min                   0.000000e+00           0.000000e+00   \n",
       "25%                   0.000000e+00           6.000000e+00   \n",
       "50%                   6.900000e+01           1.660000e+02   \n",
       "75%                   3.876000e+03           5.970000e+02   \n",
       "max                   1.345796e+09           2.982000e+04   \n",
       "\n",
       "       Fwd.Packet.Length.Min  ...  min_seg_size_forward   Active.Mean  \\\n",
       "count           1.048575e+06  ...          1.048575e+06  1.048575e+06   \n",
       "mean            7.226746e+00  ...          2.590404e+01  2.470705e+05   \n",
       "std             8.181314e+01  ...          6.029654e+00  2.018038e+06   \n",
       "min             0.000000e+00  ...         -1.000000e+00  0.000000e+00   \n",
       "25%             0.000000e+00  ...          2.000000e+01  0.000000e+00   \n",
       "50%             0.000000e+00  ...          2.000000e+01  0.000000e+00   \n",
       "75%             6.000000e+00  ...          3.200000e+01  0.000000e+00   \n",
       "max             1.606000e+04  ...          4.800000e+01  1.138933e+08   \n",
       "\n",
       "         Active.Std    Active.Max    Active.Min     Idle.Mean      Idle.Std  \\\n",
       "count  1.048575e+06  1.048575e+06  1.048575e+06  1.048575e+06  1.048575e+06   \n",
       "mean   1.443851e+05  4.252302e+05  1.441728e+05  7.093360e+06  1.115743e+06   \n",
       "std    1.048899e+06  2.744389e+06  1.809586e+06  1.598250e+07  4.398582e+06   \n",
       "min    0.000000e+00  0.000000e+00  0.000000e+00  0.000000e+00  0.000000e+00   \n",
       "25%    0.000000e+00  0.000000e+00  0.000000e+00  0.000000e+00  0.000000e+00   \n",
       "50%    0.000000e+00  0.000000e+00  0.000000e+00  0.000000e+00  0.000000e+00   \n",
       "75%    0.000000e+00  0.000000e+00  0.000000e+00  0.000000e+00  0.000000e+00   \n",
       "max    7.225154e+07  1.138933e+08  1.138933e+08  1.200000e+08  7.516046e+07   \n",
       "\n",
       "           Idle.Max      Idle.Min    L7Protocol  \n",
       "count  1.048575e+06  1.048575e+06  1.048575e+06  \n",
       "mean   8.076663e+06  6.058889e+06  9.611647e+01  \n",
       "std    1.764365e+07  1.497405e+07  5.484653e+01  \n",
       "min    0.000000e+00  0.000000e+00  5.000000e+00  \n",
       "25%    0.000000e+00  0.000000e+00  7.000000e+01  \n",
       "50%    0.000000e+00  0.000000e+00  1.260000e+02  \n",
       "75%    0.000000e+00  0.000000e+00  1.300000e+02  \n",
       "max    1.200000e+08  1.200000e+08  2.220000e+02  \n",
       "\n",
       "[8 rows x 81 columns]"
      ]
     },
     "execution_count": 6,
     "metadata": {},
     "output_type": "execute_result"
    }
   ],
   "source": [
    "#Showing the basic statistics of the data\n",
    "df.describe()"
   ]
  },
  {
   "cell_type": "code",
   "execution_count": 3,
   "id": "a3a4698e",
   "metadata": {},
   "outputs": [
    {
     "name": "stdout",
     "output_type": "stream",
     "text": [
      "Flow.ID             0\n",
      "Source.IP           0\n",
      "Source.Port         0\n",
      "Destination.IP      0\n",
      "Destination.Port    0\n",
      "                   ..\n",
      "Idle.Max            0\n",
      "Idle.Min            0\n",
      "Label               0\n",
      "L7Protocol          0\n",
      "ProtocolName        0\n",
      "Length: 87, dtype: int64\n"
     ]
    }
   ],
   "source": [
    "#Checking for missing values \n",
    "df_missing = df.isnull()\n",
    "print(df_missing.sum()) # shows the sum of all missing values\n",
    "df_new = df.dropna() # Incase there are any missing values we drop\n"
   ]
  },
  {
   "cell_type": "code",
   "execution_count": 7,
   "id": "5e5fa5c9-ecf5-4ef5-9be4-3fd264ce6ea8",
   "metadata": {},
   "outputs": [
    {
     "name": "stdout",
     "output_type": "stream",
     "text": [
      "ACK\n"
     ]
    },
    {
     "data": {
      "image/png": "[encoded data removed]",
      "text/plain": [
       "<Figure size 1500x700 with 1 Axes>"
      ]
     },
     "metadata": {},
     "output_type": "display_data"
    }
   ],
   "source": [
    "#visualizing the data\n",
    "df_plot = df[['Timestamp','ACK.Flag.Count']]\n",
    "df_plot.plot(figsize =(15,7))\n",
    "print('ACK')\n",
    "plt.show()"
   ]
  },
  {
   "cell_type": "code",
   "execution_count": 65,
   "id": "bb23b71c-16f4-4511-8490-9ccf05fc3c75",
   "metadata": {},
   "outputs": [
    {
     "name": "stdout",
     "output_type": "stream",
     "text": [
      "ACK\n"
     ]
    },
    {
     "data": {
      "image/png": "[encoded data removed]",
      "text/plain": [
       "<Figure size 1500x700 with 1 Axes>"
      ]
     },
     "metadata": {},
     "output_type": "display_data"
    }
   ],
   "source": [
    "#visualizing the data\n",
    "df_plot = df[['Timestamp','Down.Up.Ratio']]\n",
    "df_plot.plot(figsize =(15,7))\n",
    "print('Ratio')\n",
    "plt.show()"
   ]
  },
  {
   "cell_type": "code",
   "execution_count": 4,
   "id": "e06b2499",
   "metadata": {},
   "outputs": [],
   "source": [
    "#-----------------------------------------------------DATA PREPROCESSING AND CLEANING--------------------------------------------------\n",
    "#1. Cleaning\n",
    "#Selecting columns that are not going to be used in the analyis and dropping the one not required\n",
    "#df_new.info() #Displating all the 84 Columns"
   ]
  },
  {
   "cell_type": "code",
   "execution_count": 5,
   "id": "08c6a6e8-bb89-48e1-8a1e-22547318ad9d",
   "metadata": {},
   "outputs": [],
   "source": [
    "#Data Preprocessing\n",
    "#converting into the correct format\n",
    "\n",
    "df_new['Timestamp'] = pd.to_datetime(df_new['Timestamp'],format='%d/%m/%Y%H:%M:%S')\n",
    "df_new['Time'] = df_new['Timestamp'].dt.date\n",
    "df_new['Date'] =df_new['Timestamp'].dt.time\n",
    "# df_new.set_index('Time')\n",
    "# print(df_new.info())\n",
    "# print(df_new.index.name)\n"
   ]
  },
  {
   "cell_type": "code",
   "execution_count": 6,
   "id": "0545ab3f",
   "metadata": {},
   "outputs": [
    {
     "data": {
      "text/plain": [
       "(1048575, 13)"
      ]
     },
     "execution_count": 6,
     "metadata": {},
     "output_type": "execute_result"
    }
   ],
   "source": [
    "df_drop = df_new[['Flow.ID','Timestamp','Date','Time','Source.IP','Source.Port','Destination.IP',\n",
    "                  'Destination.Port','Flow.Duration','Protocol','ACK.Flag.Count'\n",
    "                 ,'Down.Up.Ratio','ProtocolName']]\n",
    "df_drop.shape"
   ]
  },
  {
   "cell_type": "code",
   "execution_count": 15,
   "id": "900a51ce-0908-4a39-8b35-a83f3b012728",
   "metadata": {
    "scrolled": true
   },
   "outputs": [
    {
     "data": {
      "text/html": [
       "<div>\n",
       "<style scoped>\n",
       "    .dataframe tbody tr th:only-of-type {\n",
       "        vertical-align: middle;\n",
       "    }\n",
       "\n",
       "    .dataframe tbody tr th {\n",
       "        vertical-align: top;\n",
       "    }\n",
       "\n",
       "    .dataframe thead th {\n",
       "        text-align: right;\n",
       "    }\n",
       "</style>\n",
       "<table border=\"1\" class=\"dataframe\">\n",
       "  <thead>\n",
       "    <tr style=\"text-align: right;\">\n",
       "      <th></th>\n",
       "      <th>Flow.ID</th>\n",
       "      <th>Timestamp</th>\n",
       "      <th>Date</th>\n",
       "      <th>Time</th>\n",
       "      <th>Source.IP</th>\n",
       "      <th>Source.Port</th>\n",
       "      <th>Destination.IP</th>\n",
       "      <th>Destination.Port</th>\n",
       "      <th>Flow.Duration</th>\n",
       "      <th>Protocol</th>\n",
       "      <th>ACK.Flag.Count</th>\n",
       "      <th>Down.Up.Ratio</th>\n",
       "      <th>ProtocolName</th>\n",
       "    </tr>\n",
       "  </thead>\n",
       "  <tbody>\n",
       "    <tr>\n",
       "      <th>0</th>\n",
       "      <td>172.19.1.46-192.168.245.10-52422-3128-6</td>\n",
       "      <td>2017-04-26 11:11:17</td>\n",
       "      <td>11:11:17</td>\n",
       "      <td>2017-04-26</td>\n",
       "      <td>172.19.1.46</td>\n",
       "      <td>52422</td>\n",
       "      <td>192.168.245.10</td>\n",
       "      <td>3128</td>\n",
       "      <td>45523</td>\n",
       "      <td>6</td>\n",
       "      <td>1</td>\n",
       "      <td>2</td>\n",
       "      <td>HTTP_PROXY</td>\n",
       "    </tr>\n",
       "    <tr>\n",
       "      <th>1</th>\n",
       "      <td>172.19.1.46-192.168.245.10-52422-3128-6</td>\n",
       "      <td>2017-04-26 11:11:17</td>\n",
       "      <td>11:11:17</td>\n",
       "      <td>2017-04-26</td>\n",
       "      <td>192.168.245.10</td>\n",
       "      <td>3128</td>\n",
       "      <td>172.19.1.46</td>\n",
       "      <td>52422</td>\n",
       "      <td>1</td>\n",
       "      <td>6</td>\n",
       "      <td>1</td>\n",
       "      <td>0</td>\n",
       "      <td>HTTP_PROXY</td>\n",
       "    </tr>\n",
       "    <tr>\n",
       "      <th>2</th>\n",
       "      <td>10.200.7.217-50.31.185.39-38848-80-6</td>\n",
       "      <td>2017-04-26 11:11:17</td>\n",
       "      <td>11:11:17</td>\n",
       "      <td>2017-04-26</td>\n",
       "      <td>50.31.185.39</td>\n",
       "      <td>80</td>\n",
       "      <td>10.200.7.217</td>\n",
       "      <td>38848</td>\n",
       "      <td>1</td>\n",
       "      <td>6</td>\n",
       "      <td>1</td>\n",
       "      <td>0</td>\n",
       "      <td>HTTP</td>\n",
       "    </tr>\n",
       "  </tbody>\n",
       "</table>\n",
       "</div>"
      ],
      "text/plain": [
       "                                   Flow.ID           Timestamp      Date  \\\n",
       "0  172.19.1.46-192.168.245.10-52422-3128-6 2017-04-26 11:11:17  11:11:17   \n",
       "1  172.19.1.46-192.168.245.10-52422-3128-6 2017-04-26 11:11:17  11:11:17   \n",
       "2     10.200.7.217-50.31.185.39-38848-80-6 2017-04-26 11:11:17  11:11:17   \n",
       "\n",
       "         Time       Source.IP  Source.Port  Destination.IP  Destination.Port  \\\n",
       "0  2017-04-26     172.19.1.46        52422  192.168.245.10              3128   \n",
       "1  2017-04-26  192.168.245.10         3128     172.19.1.46             52422   \n",
       "2  2017-04-26    50.31.185.39           80    10.200.7.217             38848   \n",
       "\n",
       "   Flow.Duration  Protocol  ACK.Flag.Count  Down.Up.Ratio ProtocolName  \n",
       "0          45523         6               1              2   HTTP_PROXY  \n",
       "1              1         6               1              0   HTTP_PROXY  \n",
       "2              1         6               1              0         HTTP  "
      ]
     },
     "execution_count": 15,
     "metadata": {},
     "output_type": "execute_result"
    }
   ],
   "source": [
    "df_drop.head(n=3)\n"
   ]
  },
  {
   "cell_type": "code",
   "execution_count": 18,
   "id": "a8807f9c-6d9c-44dd-98d4-946e6df5794b",
   "metadata": {
    "scrolled": true
   },
   "outputs": [
    {
     "name": "stdout",
     "output_type": "stream",
     "text": [
      "<class 'pandas.core.frame.DataFrame'>\n",
      "RangeIndex: 1048575 entries, 0 to 1048574\n",
      "Data columns (total 13 columns):\n",
      " #   Column            Non-Null Count    Dtype         \n",
      "---  ------            --------------    -----         \n",
      " 0   Flow.ID           1048575 non-null  object        \n",
      " 1   Timestamp         1048575 non-null  datetime64[ns]\n",
      " 2   Date              1048575 non-null  object        \n",
      " 3   Time              1048575 non-null  object        \n",
      " 4   Source.IP         1048575 non-null  object        \n",
      " 5   Source.Port       1048575 non-null  int64         \n",
      " 6   Destination.IP    1048575 non-null  object        \n",
      " 7   Destination.Port  1048575 non-null  int64         \n",
      " 8   Flow.Duration     1048575 non-null  int64         \n",
      " 9   Protocol          1048575 non-null  int64         \n",
      " 10  ACK.Flag.Count    1048575 non-null  int64         \n",
      " 11  Down.Up.Ratio     1048575 non-null  int64         \n",
      " 12  ProtocolName      1048575 non-null  object        \n",
      "dtypes: datetime64[ns](1), int64(6), object(6)\n",
      "memory usage: 104.0+ MB\n"
     ]
    }
   ],
   "source": [
    "#Data Preprocessing\n",
    "df_drop.info() "
   ]
  },
  {
   "cell_type": "code",
   "execution_count": 17,
   "id": "d605c8eb-e926-447f-bfdc-5b8056b46b1d",
   "metadata": {},
   "outputs": [],
   "source": [
    "#changing data type and setting index\n",
    "#df_drop['Timestamp'] = pd.to_datetime(df_drop['Timestamp'])\n",
    "#df_drop = df_drop.set_index('Timestamp').resample('D').mean()\n",
    "#df_drop.info()"
   ]
  },
  {
   "cell_type": "code",
   "execution_count": 37,
   "id": "c5109edb-3869-4b7c-9a99-b082345804b7",
   "metadata": {},
   "outputs": [
    {
     "data": {
      "text/plain": [
       "Flow.ID                                   \n",
       "192.168.10.58-10.200.7.4-50555-3128-6         199\n",
       "192.168.180.14-10.200.7.8-52792-3128-6        192\n",
       "192.168.180.14-10.200.7.5-51613-3128-6        176\n",
       "192.168.180.16-192.168.245.10-55146-3128-6    127\n",
       "172.16.255.183-10.200.7.4-53-52931-17         115\n",
       "                                             ... \n",
       "179.1.4.244-10.200.7.194-443-40875-6            1\n",
       "179.1.4.244-10.200.7.194-443-40876-6            1\n",
       "179.1.4.244-10.200.7.194-443-41656-6            1\n",
       "179.1.4.244-10.200.7.194-443-42110-6            1\n",
       "192.168.10.117-10.200.7.8-52508-3128-6          1\n",
       "Name: count, Length: 442483, dtype: int64"
      ]
     },
     "execution_count": 37,
     "metadata": {},
     "output_type": "execute_result"
    }
   ],
   "source": [
    "df_drop[['Flow.ID']].value_counts()"
   ]
  },
  {
   "cell_type": "code",
   "execution_count": 28,
   "id": "14acdda4-225f-452e-b79a-6c2df652a1d2",
   "metadata": {},
   "outputs": [
    {
     "data": {
      "text/plain": [
       "Down.Up.Ratio\n",
       "0      485456\n",
       "1      361490\n",
       "2      100256\n",
       "3       40119\n",
       "4       25503\n",
       "5       21249\n",
       "6        8427\n",
       "7        2962\n",
       "8        1279\n",
       "9         834\n",
       "11        381\n",
       "10        296\n",
       "12        157\n",
       "13         38\n",
       "14         34\n",
       "15         22\n",
       "16         21\n",
       "17         13\n",
       "20          6\n",
       "19          4\n",
       "18          4\n",
       "21          3\n",
       "26          2\n",
       "23          2\n",
       "22          2\n",
       "29          2\n",
       "24          2\n",
       "95          1\n",
       "30          1\n",
       "102         1\n",
       "106         1\n",
       "61          1\n",
       "25          1\n",
       "62          1\n",
       "40          1\n",
       "27          1\n",
       "57          1\n",
       "38          1\n",
       "Name: count, dtype: int64"
      ]
     },
     "execution_count": 28,
     "metadata": {},
     "output_type": "execute_result"
    }
   ],
   "source": [
    "#Checking for Resampling or not\n",
    "df_drop['Down.Up.Ratio'].value_counts()"
   ]
  },
  {
   "cell_type": "code",
   "execution_count": 29,
   "id": "df50efdd-d9d4-4eba-b606-d9e256ca543f",
   "metadata": {},
   "outputs": [
    {
     "data": {
      "text/plain": [
       "ACK.Flag.Count\n",
       "1    628114\n",
       "0    420461\n",
       "Name: count, dtype: int64"
      ]
     },
     "execution_count": 29,
     "metadata": {},
     "output_type": "execute_result"
    }
   ],
   "source": [
    "df_drop['ACK.Flag.Count'].value_counts()"
   ]
  },
  {
   "cell_type": "code",
   "execution_count": 7,
   "id": "f50a37cb-6cd6-4f1b-baf5-69e9138e468e",
   "metadata": {},
   "outputs": [
    {
     "data": {
      "text/plain": [
       "(38643, 13)"
      ]
     },
     "execution_count": 7,
     "metadata": {},
     "output_type": "execute_result"
    }
   ],
   "source": [
    "#slecting only data for single router clients to work with\n",
    "df_drop_new = df_drop.loc[df_drop['Source.IP']== '10.200.7.4']\n",
    "#Exporing the dataset to Djnago\n",
    "df_drop_new.to_csv('/home/takudzwa/Documents/Projects/WebApp-Projects/Time_series/web_application/PredictionModel/NetworkFalure.csv',index=False)\n",
    "df_drop_new.shape"
   ]
  },
  {
   "cell_type": "code",
   "execution_count": 8,
   "id": "c03ced5e-80f1-4948-b829-ee0fe76b7237",
   "metadata": {},
   "outputs": [
    {
     "data": {
      "text/plain": [
       "(38643, 13)"
      ]
     },
     "execution_count": 8,
     "metadata": {},
     "output_type": "execute_result"
    }
   ],
   "source": [
    "#Exporing the dataset to Djnago\n",
    "df_drop_new.to_csv('/home/takudzwa/Documents/Projects/WebApp-Projects/Time_series/web_application/PredictionModel/NetworkFalure.csv',index=False)\n",
    "df_drop_new.shape"
   ]
  },
  {
   "cell_type": "code",
   "execution_count": 9,
   "id": "17dc506b-48e4-49b3-8581-93cfac4ba491",
   "metadata": {},
   "outputs": [
    {
     "data": {
      "text/html": [
       "<div>\n",
       "<style scoped>\n",
       "    .dataframe tbody tr th:only-of-type {\n",
       "        vertical-align: middle;\n",
       "    }\n",
       "\n",
       "    .dataframe tbody tr th {\n",
       "        vertical-align: top;\n",
       "    }\n",
       "\n",
       "    .dataframe thead th {\n",
       "        text-align: right;\n",
       "    }\n",
       "</style>\n",
       "<table border=\"1\" class=\"dataframe\">\n",
       "  <thead>\n",
       "    <tr style=\"text-align: right;\">\n",
       "      <th></th>\n",
       "      <th>Flow.ID</th>\n",
       "      <th>Timestamp</th>\n",
       "      <th>Date</th>\n",
       "      <th>Time</th>\n",
       "      <th>Source.IP</th>\n",
       "      <th>Source.Port</th>\n",
       "      <th>Destination.IP</th>\n",
       "      <th>Destination.Port</th>\n",
       "      <th>Flow.Duration</th>\n",
       "      <th>Protocol</th>\n",
       "      <th>ACK.Flag.Count</th>\n",
       "      <th>Down.Up.Ratio</th>\n",
       "      <th>ProtocolName</th>\n",
       "    </tr>\n",
       "  </thead>\n",
       "  <tbody>\n",
       "    <tr>\n",
       "      <th>0</th>\n",
       "      <td>192.168.180.51-10.200.7.4-57740-3128-6</td>\n",
       "      <td>2017-04-26 11:11:17</td>\n",
       "      <td>11:11:17</td>\n",
       "      <td>2017-04-26</td>\n",
       "      <td>10.200.7.4</td>\n",
       "      <td>3128</td>\n",
       "      <td>192.168.180.51</td>\n",
       "      <td>57740</td>\n",
       "      <td>205118</td>\n",
       "      <td>6</td>\n",
       "      <td>1</td>\n",
       "      <td>0</td>\n",
       "      <td>HTTP_PROXY</td>\n",
       "    </tr>\n",
       "  </tbody>\n",
       "</table>\n",
       "</div>"
      ],
      "text/plain": [
       "                                  Flow.ID            Timestamp      Date  \\\n",
       "0  192.168.180.51-10.200.7.4-57740-3128-6  2017-04-26 11:11:17  11:11:17   \n",
       "\n",
       "         Time   Source.IP  Source.Port  Destination.IP  Destination.Port  \\\n",
       "0  2017-04-26  10.200.7.4         3128  192.168.180.51             57740   \n",
       "\n",
       "   Flow.Duration  Protocol  ACK.Flag.Count  Down.Up.Ratio ProtocolName  \n",
       "0         205118         6               1              0   HTTP_PROXY  "
      ]
     },
     "execution_count": 9,
     "metadata": {},
     "output_type": "execute_result"
    }
   ],
   "source": [
    "#re-importing the dataset\n",
    "df_predict = pd.read_csv('/home/takudzwa/Documents/Projects/WebApp-Projects/Time_series/web_application/PredictionModel/NetworkFalure.csv')\n",
    "df_predict.head(n=1)\n",
    "\n",
    "\n"
   ]
  },
  {
   "cell_type": "code",
   "execution_count": 45,
   "id": "e09a0b77-46af-4644-a406-2667af1da727",
   "metadata": {},
   "outputs": [
    {
     "data": {
      "text/plain": [
       "Flow.ID                               \n",
       "192.168.10.58-10.200.7.4-50555-3128-6     199\n",
       "172.16.255.183-10.200.7.4-53-52931-17     110\n",
       "192.168.42.68-10.200.7.4-1479-3128-6       54\n",
       "192.168.180.16-10.200.7.4-45510-3128-6     53\n",
       "10.200.7.4-10.230.1.73-3128-63559-6        43\n",
       "                                         ... \n",
       "172.19.1.41-10.200.7.4-53496-3128-6         1\n",
       "192.168.42.45-10.200.7.4-52601-3128-6       1\n",
       "192.168.42.45-10.200.7.4-52600-3128-6       1\n",
       "192.168.42.45-10.200.7.4-52596-3128-6       1\n",
       "10.130.9.237-10.200.7.4-53792-3128-6        1\n",
       "Name: count, Length: 16303, dtype: int64"
      ]
     },
     "execution_count": 45,
     "metadata": {},
     "output_type": "execute_result"
    }
   ],
   "source": [
    "df_predict[['Flow.ID']].value_counts()\n"
   ]
  },
  {
   "cell_type": "code",
   "execution_count": 46,
   "id": "323089f0-2773-409b-a895-ba1a1cbbf997",
   "metadata": {},
   "outputs": [
    {
     "data": {
      "image/png": "[encoded data removed]",
      "text/plain": [
       "<Figure size 640x480 with 1 Axes>"
      ]
     },
     "metadata": {},
     "output_type": "display_data"
    }
   ],
   "source": [
    "df_Ratio = df_predict['Down.Up.Ratio']\n",
    "df_time = df_predict['Timestamp']\n",
    "plt.plot(df_Ratio)\n",
    "plt.title('DownUp Ratio for the whole network')\n",
    "plt.xlabel('Date')\n",
    "plt.ylabel('DownUp Ratio')\n",
    "plt.show()\n",
    "#plot of ack  and up down for the whole network over a period of time\n",
    "#plot of 1 customer up down ration over a period of time"
   ]
  },
  {
   "cell_type": "code",
   "execution_count": 25,
   "id": "7b7d08f6-4f96-42dd-aedd-44a49fc556c3",
   "metadata": {},
   "outputs": [
    {
     "data": {
      "image/png": "[encoded data removed]",
      "text/plain": [
       "<Figure size 640x480 with 1 Axes>"
      ]
     },
     "metadata": {},
     "output_type": "display_data"
    }
   ],
   "source": [
    "df_ack = df_predict['ACK.Flag.Count']\n",
    "df_time = df_predict['Timestamp']\n",
    "plt.plot(df_ack)\n",
    "plt.title('ACK for the whole network')\n",
    "plt.xlabel('Date')\n",
    "plt.ylabel('DownUp Ratio')\n",
    "plt.show()"
   ]
  },
  {
   "cell_type": "code",
   "execution_count": 49,
   "id": "4e7f23dd-6812-4695-818e-9d799f35a10c",
   "metadata": {},
   "outputs": [
    {
     "data": {
      "image/png": "[encoded data removed]",
      "text/plain": [
       "<Figure size 640x480 with 1 Axes>"
      ]
     },
     "metadata": {},
     "output_type": "display_data"
    }
   ],
   "source": [
    "#Plotting for specific customeer\n",
    "ip ='192.168.42.68'\n",
    "#ip ='172.16.255.183'\n",
    "#ip='192.168.10.58'\n",
    "#print(df_predict)\n",
    "#print(df_predict['Destination.IP'].value_counts())\n",
    "df_customer = df_predict.loc[df_predict['Destination.IP'] == ip ]\n",
    "df_Ratio = df_customer['Down.Up.Ratio']\n",
    "df_time = df_customer['Timestamp']\n",
    "plt.plot(df_Ratio)\n",
    "plt.title('DownUp Ratio for the whole network')\n",
    "plt.xlabel('Date')\n",
    "plt.ylabel('DownUp Ratio')\n",
    "plt.show()"
   ]
  },
  {
   "cell_type": "code",
   "execution_count": 59,
   "id": "ce6810c3-4821-4de5-95fa-b4c421b7a834",
   "metadata": {},
   "outputs": [
    {
     "data": {
      "image/png": "[encoded data removed]",
      "text/plain": [
       "<Figure size 640x480 with 1 Axes>"
      ]
     },
     "metadata": {},
     "output_type": "display_data"
    }
   ],
   "source": [
    "#Plotting for specific customeer\n",
    "#ip ='192.168.42.68'\n",
    "ip ='172.16.255.183'\n",
    "#ip='192.168.10.58'\n",
    "#print(df_predict)\n",
    "#print(df_predict['Destination.IP'].value_counts())\n",
    "df_customer = df_predict.loc[df_predict['Destination.IP'] == ip ]\n",
    "df_ack = df_predict['ACK.Flag.Count']\n",
    "df_time = df_customer['Timestamp']\n",
    "plt.plot(df_ack)\n",
    "plt.title('ACK for the')\n",
    "plt.xlabel('Date')\n",
    "plt.ylabel('DownUp Ratio')\n",
    "plt.show()"
   ]
  },
  {
   "cell_type": "code",
   "execution_count": 21,
   "id": "e270530f-4374-422c-9de2-2cdcb56efc4d",
   "metadata": {},
   "outputs": [
    {
     "name": "stdout",
     "output_type": "stream",
     "text": [
      "ADF Statistic: -6.884801956028762\n",
      "p-value: 1.403478989812691e-09\n"
     ]
    }
   ],
   "source": [
    "#-------------------------------------------------CHECKING FOR STATIONERITY------------------------------------------------------------\n",
    "from statsmodels.tsa.stattools import adfuller\n",
    "\n",
    "stationerity = adfuller(df_predict['Down.Up.Ratio'])\n",
    "print('ADF Statistic:', stationerity[0])\n",
    "print('p-value:', stationerity[1])\n",
    "#if p value less than 0.5 stationery\n",
    "#STATIONERY"
   ]
  },
  {
   "cell_type": "code",
   "execution_count": 22,
   "id": "3fc4ca2c-9c30-46f6-92ff-f477765aab27",
   "metadata": {},
   "outputs": [
    {
     "name": "stdout",
     "output_type": "stream",
     "text": [
      "ADF Statistic: -20.13743481110239\n",
      "p-value: 0.0\n"
     ]
    }
   ],
   "source": [
    "stationerity = adfuller(df_predict['ACK.Flag.Count'])\n",
    "print('ADF Statistic:', stationerity[0])\n",
    "print('p-value:', stationerity[1])\n",
    "#if p value less than 0.5 stationery\n",
    "#STATIONERY"
   ]
  },
  {
   "cell_type": "code",
   "execution_count": 27,
   "id": "bc6bd9f4-42da-46d3-af84-0ea5f083f695",
   "metadata": {},
   "outputs": [],
   "source": [
    "#Using the rolling mean\n",
    "# window_size = 20\n",
    "\n",
    "# # Apply the rolling mean\n",
    "# df['rolling_mean'] = df['Down.Up.Ratio'].rolling(window=window_size).mean()\n",
    "\n",
    "# # Plot the original time series and the rolling mean\n",
    "# plt.plot(df['Down.Up.Ratio'], label='Original Time Series')\n",
    "# plt.plot(df['rolling_mean'], label=f'Rolling Mean (Window Size {window_size})', color='red')\n",
    "# plt.title('Stationary Time Series with Rolling Mean')\n",
    "# plt.xlabel('Date')\n",
    "# plt.ylabel('Down Up Ratio')\n",
    "# plt.legend()\n",
    "# plt.show()"
   ]
  },
  {
   "cell_type": "code",
   "execution_count": null,
   "id": "311d2b94-0f22-46ba-bead-d9eb8e8c5888",
   "metadata": {},
   "outputs": [],
   "source": [
    "#--------------------------------------------------------------CHOOSING MODEL AND USING ARIMA--------------------------------------------------------------------\n",
    "from statsmodels.graphics.tsaplots import plot_acf, plot_pacf\n",
    "\n",
    "# Plot ACF and PACF\n",
    "plot_acf(df['ACK.Flag.Count'])\n",
    "plot_pacf(df['ACK.Flag.Count'])\n",
    "plt.show()"
   ]
  },
  {
   "cell_type": "code",
   "execution_count": null,
   "id": "14b6ac20-4b72-45a3-98eb-c10949ba91d5",
   "metadata": {},
   "outputs": [],
   "source": [
    "plot_acf(df['Down.Up.Ratio'])\n",
    "plot_pacf(df['Down.Up.Ratio'])\n",
    "plt.show()"
   ]
  },
  {
   "cell_type": "code",
   "execution_count": 11,
   "id": "32d76443-31a2-4e2a-aff5-c76f2d192839",
   "metadata": {},
   "outputs": [
    {
     "name": "stdout",
     "output_type": "stream",
     "text": [
      "RUNNING THE L-BFGS-B CODE\n",
      "\n",
      "           * * *\n",
      "\n",
      "Machine precision = 2.220D-16\n",
      " N =            2     M =           10\n",
      "\n",
      "At X0         0 variables are exactly at the bounds\n",
      "\n",
      "At iterate    0    f=  1.70435D+00    |proj g|=  5.31064D-06\n",
      "\n",
      "           * * *\n",
      "\n",
      "Tit   = total number of iterations\n",
      "Tnf   = total number of function evaluations\n",
      "Tnint = total number of segments explored during Cauchy searches\n",
      "Skip  = number of BFGS updates skipped\n",
      "Nact  = number of active bounds at final generalized Cauchy point\n",
      "Projg = norm of the final projected gradient\n",
      "F     = final function value\n",
      "\n",
      "           * * *\n",
      "\n",
      "   N    Tit     Tnf  Tnint  Skip  Nact     Projg        F\n",
      "    2      0      1      0     0     0   5.311D-06   1.704D+00\n",
      "  F =   1.7043490505186252     \n",
      "\n",
      "CONVERGENCE: NORM_OF_PROJECTED_GRADIENT_<=_PGTOL            \n"
     ]
    },
    {
     "name": "stderr",
     "output_type": "stream",
     "text": [
      " This problem is unconstrained.\n"
     ]
    },
    {
     "name": "stdout",
     "output_type": "stream",
     "text": [
      "                               SARIMAX Results                                \n",
      "==============================================================================\n",
      "Dep. Variable:          Down.Up.Ratio   No. Observations:              1048575\n",
      "Model:               SARIMAX(1, 0, 0)   Log Likelihood            -1787137.806\n",
      "Date:                Mon, 22 Jan 2024   AIC                        3574279.611\n",
      "Time:                        17:02:30   BIC                        3574303.337\n",
      "Sample:                             0   HQIC                       3574286.128\n",
      "                            - 1048575                                         \n",
      "Covariance Type:                  opg                                         \n",
      "==============================================================================\n",
      "                 coef    std err          z      P>|z|      [0.025      0.975]\n",
      "------------------------------------------------------------------------------\n",
      "ar.L1          0.5898      0.000   3661.405      0.000       0.590       0.590\n",
      "sigma2         1.7697      0.000   5583.269      0.000       1.769       1.770\n",
      "===================================================================================\n",
      "Ljung-Box (L1) (Q):              122951.62   Jarque-Bera (JB):         900960159.78\n",
      "Prob(Q):                              0.00   Prob(JB):                         0.00\n",
      "Heteroskedasticity (H):               0.76   Skew:                             2.89\n",
      "Prob(H) (two-sided):                  0.00   Kurtosis:                       146.48\n",
      "===================================================================================\n",
      "\n",
      "Warnings:\n",
      "[1] Covariance matrix calculated using the outer product of gradients (complex-step).\n"
     ]
    }
   ],
   "source": [
    "#-------------------------------------------------------MODEL FITTING-----------------------------------------------------------\n",
    "import statsmodels.api as sm\n",
    "\n",
    "# Fit ARIMA model\n",
    "# model = sm.tsa.ARIMA(df[['Down.Up.Ratio','ACK.Flag.Count']], order=(1, 0, 0))\n",
    "# results = model.fit()\n",
    "\n",
    "\n",
    "# Assuming 'Down.Up.Ratio' is the variable you want to model\n",
    "endog_variable = df['Down.Up.Ratio']\n",
    "\n",
    "# Fit SARIMAX model\n",
    "model = sm.tsa.SARIMAX(endog_variable, order=(1, 0, 0))\n",
    "results = model.fit()\n",
    "\n",
    "# Print model summary\n",
    "print(results.summary())\n"
   ]
  },
  {
   "cell_type": "code",
   "execution_count": 12,
   "id": "53c7402e-f170-45c5-a21d-172d125b9097",
   "metadata": {},
   "outputs": [
    {
     "name": "stdout",
     "output_type": "stream",
     "text": [
      "                               SARIMAX Results                                \n",
      "==============================================================================\n",
      "Dep. Variable:          Down.Up.Ratio   No. Observations:              1048575\n",
      "Model:               SARIMAX(1, 0, 0)   Log Likelihood            -1787137.806\n",
      "Date:                Mon, 22 Jan 2024   AIC                        3574279.611\n",
      "Time:                        17:16:34   BIC                        3574303.337\n",
      "Sample:                             0   HQIC                       3574286.128\n",
      "                            - 1048575                                         \n",
      "Covariance Type:                  opg                                         \n",
      "==============================================================================\n",
      "                 coef    std err          z      P>|z|      [0.025      0.975]\n",
      "------------------------------------------------------------------------------\n",
      "ar.L1          0.5898      0.000   3661.405      0.000       0.590       0.590\n",
      "sigma2         1.7697      0.000   5583.269      0.000       1.769       1.770\n",
      "===================================================================================\n",
      "Ljung-Box (L1) (Q):              122951.62   Jarque-Bera (JB):         900960159.78\n",
      "Prob(Q):                              0.00   Prob(JB):                         0.00\n",
      "Heteroskedasticity (H):               0.76   Skew:                             2.89\n",
      "Prob(H) (two-sided):                  0.00   Kurtosis:                       146.48\n",
      "===================================================================================\n",
      "\n",
      "Warnings:\n",
      "[1] Covariance matrix calculated using the outer product of gradients (complex-step).\n"
     ]
    },
    {
     "data": {
      "image/png": "[encoded data removed]",
      "text/plain": [
       "<Figure size 640x480 with 1 Axes>"
      ]
     },
     "metadata": {},
     "output_type": "display_data"
    }
   ],
   "source": [
    "#-------------------------------------------------------MODEL DIAGNOSIS-------------------------------------------------------------\n",
    "print(results.summary())\n",
    "\n",
    "# Plot residuals\n",
    "residuals = results.resid\n",
    "plt.plot(residuals)\n",
    "plt.title('Residuals')\n",
    "plt.xlabel('Date')\n",
    "plt.ylabel('Residual Value')\n",
    "plt.show()"
   ]
  },
  {
   "cell_type": "code",
   "execution_count": 13,
   "id": "a360e599-f36e-4053-a48d-28ba7ef9e37f",
   "metadata": {},
   "outputs": [
    {
     "data": {
      "image/png": "[encoded data removed]",
      "text/plain": [
       "<Figure size 640x480 with 1 Axes>"
      ]
     },
     "metadata": {},
     "output_type": "display_data"
    }
   ],
   "source": [
    "#---------------------------------------------------PREDICTING----------------------------------------------------------------------\n",
    "forecast_steps = 10\n",
    "forecast_values = results.get_forecast(steps=forecast_steps).predicted_mean\n",
    "\n",
    "# Plot original, fitted, and forecasted values\n",
    "plt.plot(df['Down.Up.Ratio'], label='Actual')\n",
    "plt.plot(results.fittedvalues, color='red', label='Fitted')\n",
    "plt.plot(forecast_values, color='green', label='Forecast')\n",
    "plt.legend()\n",
    "plt.show()\n",
    "\n"
   ]
  },
  {
   "cell_type": "code",
   "execution_count": 14,
   "id": "9105173b-c8dc-4ac4-a3fd-b8999570defc",
   "metadata": {},
   "outputs": [
    {
     "name": "stdout",
     "output_type": "stream",
     "text": [
      "Root Mean Squared Error: 1.330308258111871\n"
     ]
    }
   ],
   "source": [
    "#----------------------------------------------------------MODEL EVALUATION-----------------------------------------------------------\n",
    "# Evaluate model performance\n",
    "from sklearn.metrics import mean_squared_error\n",
    "\n",
    "mse = mean_squared_error(df['Down.Up.Ratio'], results.fittedvalues)\n",
    "rmse = np.sqrt(mse)\n",
    "print('Root Mean Squared Error:', rmse)"
   ]
  },
  {
   "cell_type": "code",
   "execution_count": null,
   "id": "f5037637-709b-41ff-b303-afddd69f47a7",
   "metadata": {},
   "outputs": [],
   "source": []
  }
 ],
 "metadata": {
  "kernelspec": {
   "display_name": "Python 3 (ipykernel)",
   "language": "python",
   "name": "python3"
  },
  "language_info": {
   "codemirror_mode": {
    "name": "ipython",
    "version": 3
   },
   "file_extension": ".py",
   "mimetype": "text/x-python",
   "name": "python",
   "nbconvert_exporter": "python",
   "pygments_lexer": "ipython3",
   "version": "3.11.7"
  }
 },
 "nbformat": 4,
 "nbformat_minor": 5
}
